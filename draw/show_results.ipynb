{
 "cells": [
  {
   "cell_type": "code",
   "execution_count": 1,
   "metadata": {},
   "outputs": [],
   "source": [
    "import json\n",
    "import pandas as pd\n",
    "import plotly.express as px\n",
    "import plotly.graph_objects as go\n",
    "\n",
    "\n",
    "\n",
    "# def get_model_df(file_path):\n",
    "#     cnt = 0\n",
    "#     q2result = []\n",
    "#     fin = open(file_path, \"r\")\n",
    "#     for line in fin:\n",
    "#         obj = json.loads(line)\n",
    "#         obj[\"category\"] = CATEGORIES[(obj[\"question_id\"]-81)//10]\n",
    "#         q2result.append(obj)\n",
    "#     df = pd.DataFrame(q2result)\n",
    "#     return df\n",
    "\n",
    "# def toggle(res_str):\n",
    "#     if res_str == \"win\":\n",
    "#         return \"loss\"\n",
    "#     elif res_str == \"loss\":\n",
    "#         return \"win\"\n",
    "#     return \"tie\"\n",
    "\n",
    "# def get_model_df_pair():\n",
    "#     fin = open(\"gpt-4_pair.jsonl\", \"r\")\n",
    "#     cnt = 0\n",
    "#     q2result = []\n",
    "#     for line in fin:\n",
    "#         obj = json.loads(line)\n",
    "\n",
    "#         result = {}\n",
    "#         result[\"qid\"] = str(obj[\"question_id\"])\n",
    "#         result[\"turn\"] = str(obj[\"turn\"])\n",
    "#         if obj[\"g1_winner\"] == \"model_1\" and obj[\"g2_winner\"] == \"model_1\":\n",
    "#             result[\"result\"] = \"win\"\n",
    "#         elif obj[\"g1_winner\"] == \"model_2\" and obj[\"g2_winner\"] == \"model_2\":\n",
    "#             result[\"result\"] = \"loss\"\n",
    "#         else:\n",
    "#             result[\"result\"] = \"tie\"\n",
    "#         result[\"category\"] = CATEGORIES[(obj[\"question_id\"]-81)//10]\n",
    "#         result[\"model\"] = obj[\"model_1\"]\n",
    "#         q2result.append(result)\n",
    "\n",
    "#     df = pd.DataFrame(q2result)\n",
    "\n",
    "#     return df\n",
    "\n",
    "# df = get_model_df('/home/liyinghao/codes/FastChat/fastchat/llm_judge/data/mt_bench/model_judgment/gpt-4o-2024-05-13_single_final.jsonl')\n",
    "# df_pair = get_model_df_pair()"
   ]
  },
  {
   "cell_type": "code",
   "execution_count": 22,
   "metadata": {},
   "outputs": [
    {
     "data": {
      "text/html": [
       "<div>\n",
       "<style scoped>\n",
       "    .dataframe tbody tr th:only-of-type {\n",
       "        vertical-align: middle;\n",
       "    }\n",
       "\n",
       "    .dataframe tbody tr th {\n",
       "        vertical-align: top;\n",
       "    }\n",
       "\n",
       "    .dataframe thead th {\n",
       "        text-align: right;\n",
       "    }\n",
       "</style>\n",
       "<table border=\"1\" class=\"dataframe\">\n",
       "  <thead>\n",
       "    <tr style=\"text-align: right;\">\n",
       "      <th></th>\n",
       "      <th>question_id</th>\n",
       "      <th>model</th>\n",
       "      <th>judge</th>\n",
       "      <th>user_prompt</th>\n",
       "      <th>judgment</th>\n",
       "      <th>score</th>\n",
       "      <th>turn</th>\n",
       "      <th>tstamp</th>\n",
       "      <th>category</th>\n",
       "    </tr>\n",
       "  </thead>\n",
       "  <tbody>\n",
       "    <tr>\n",
       "      <th>0</th>\n",
       "      <td>81</td>\n",
       "      <td>[llama2-70b]_[md_urial_urial]</td>\n",
       "      <td>[gpt-4o-2024-05-13, single-v1]</td>\n",
       "      <td>[Instruction]\\nPlease act as an impartial judg...</td>\n",
       "      <td>The assistant's response provides a well-round...</td>\n",
       "      <td>8.0</td>\n",
       "      <td>1</td>\n",
       "      <td>1.716998e+09</td>\n",
       "      <td>Writing</td>\n",
       "    </tr>\n",
       "    <tr>\n",
       "      <th>1</th>\n",
       "      <td>81</td>\n",
       "      <td>[llama2-7b]_[md_urial_urial]</td>\n",
       "      <td>[gpt-4o-2024-05-13, single-v1]</td>\n",
       "      <td>[Instruction]\\nPlease act as an impartial judg...</td>\n",
       "      <td>The AI assistant's response provides a compreh...</td>\n",
       "      <td>9.0</td>\n",
       "      <td>1</td>\n",
       "      <td>1.716998e+09</td>\n",
       "      <td>Writing</td>\n",
       "    </tr>\n",
       "    <tr>\n",
       "      <th>2</th>\n",
       "      <td>81</td>\n",
       "      <td>[llama2-13b]_[chatml_urial_urial]</td>\n",
       "      <td>[gpt-4o-2024-05-13, single-v1]</td>\n",
       "      <td>[Instruction]\\nPlease act as an impartial judg...</td>\n",
       "      <td>The response provided by the AI assistant is h...</td>\n",
       "      <td>6.0</td>\n",
       "      <td>1</td>\n",
       "      <td>1.716998e+09</td>\n",
       "      <td>Writing</td>\n",
       "    </tr>\n",
       "    <tr>\n",
       "      <th>3</th>\n",
       "      <td>81</td>\n",
       "      <td>[llama2-13b-chat]_[llama2-chat-system]</td>\n",
       "      <td>[gpt-4o-2024-05-13, single-v1]</td>\n",
       "      <td>[Instruction]\\nPlease act as an impartial judg...</td>\n",
       "      <td>The AI assistant's response is well-structured...</td>\n",
       "      <td>9.0</td>\n",
       "      <td>1</td>\n",
       "      <td>1.716998e+09</td>\n",
       "      <td>Writing</td>\n",
       "    </tr>\n",
       "    <tr>\n",
       "      <th>4</th>\n",
       "      <td>81</td>\n",
       "      <td>[llama2-13b]_[base]</td>\n",
       "      <td>[gpt-4o-2024-05-13, single-v1]</td>\n",
       "      <td>[Instruction]\\nPlease act as an impartial judg...</td>\n",
       "      <td>The response provided by the AI assistant is g...</td>\n",
       "      <td>7.0</td>\n",
       "      <td>1</td>\n",
       "      <td>1.716998e+09</td>\n",
       "      <td>Writing</td>\n",
       "    </tr>\n",
       "    <tr>\n",
       "      <th>...</th>\n",
       "      <td>...</td>\n",
       "      <td>...</td>\n",
       "      <td>...</td>\n",
       "      <td>...</td>\n",
       "      <td>...</td>\n",
       "      <td>...</td>\n",
       "      <td>...</td>\n",
       "      <td>...</td>\n",
       "      <td>...</td>\n",
       "    </tr>\n",
       "    <tr>\n",
       "      <th>3675</th>\n",
       "      <td>130</td>\n",
       "      <td>[llama2-13b-lima]_[llama2-chat]</td>\n",
       "      <td>[gpt-4o-2024-05-13, single-math-v1-multi-turn]</td>\n",
       "      <td>&lt;|The Start of Reference Answer|&gt;\\n\\n### User:...</td>\n",
       "      <td>### Evaluation of Assistant A's Response to th...</td>\n",
       "      <td>3.0</td>\n",
       "      <td>2</td>\n",
       "      <td>1.717235e+09</td>\n",
       "      <td>Coding</td>\n",
       "    </tr>\n",
       "    <tr>\n",
       "      <th>3676</th>\n",
       "      <td>130</td>\n",
       "      <td>[llama2-13b-alpaca]_[llama2-chat]</td>\n",
       "      <td>[gpt-4o-2024-05-13, single-math-v1-multi-turn]</td>\n",
       "      <td>&lt;|The Start of Reference Answer|&gt;\\n\\n### User:...</td>\n",
       "      <td>### Evaluation of Assistant A's Response to th...</td>\n",
       "      <td>3.0</td>\n",
       "      <td>2</td>\n",
       "      <td>1.717235e+09</td>\n",
       "      <td>Coding</td>\n",
       "    </tr>\n",
       "    <tr>\n",
       "      <th>3677</th>\n",
       "      <td>130</td>\n",
       "      <td>[llama2-70b-alpaca]_[llama2-chat]</td>\n",
       "      <td>[gpt-4o-2024-05-13, single-math-v1-multi-turn]</td>\n",
       "      <td>&lt;|The Start of Reference Answer|&gt;\\n\\n### User:...</td>\n",
       "      <td>### Evaluation of Assistant A's Response to th...</td>\n",
       "      <td>8.0</td>\n",
       "      <td>2</td>\n",
       "      <td>1.717235e+09</td>\n",
       "      <td>Coding</td>\n",
       "    </tr>\n",
       "    <tr>\n",
       "      <th>3678</th>\n",
       "      <td>130</td>\n",
       "      <td>[llama2-7b-alpaca]_[llama2-chat]</td>\n",
       "      <td>[gpt-4o-2024-05-13, single-math-v1-multi-turn]</td>\n",
       "      <td>&lt;|The Start of Reference Answer|&gt;\\n\\n### User:...</td>\n",
       "      <td>### Evaluation of Assistant A's Response to th...</td>\n",
       "      <td>3.0</td>\n",
       "      <td>2</td>\n",
       "      <td>1.717235e+09</td>\n",
       "      <td>Coding</td>\n",
       "    </tr>\n",
       "    <tr>\n",
       "      <th>3679</th>\n",
       "      <td>130</td>\n",
       "      <td>[llama2-7b-lima]_[llama2-chat]</td>\n",
       "      <td>[gpt-4o-2024-05-13, single-math-v1-multi-turn]</td>\n",
       "      <td>&lt;|The Start of Reference Answer|&gt;\\n\\n### User:...</td>\n",
       "      <td>### Evaluation of Assistant A's Response to th...</td>\n",
       "      <td>3.0</td>\n",
       "      <td>2</td>\n",
       "      <td>1.717235e+09</td>\n",
       "      <td>Coding</td>\n",
       "    </tr>\n",
       "  </tbody>\n",
       "</table>\n",
       "<p>3680 rows × 9 columns</p>\n",
       "</div>"
      ],
      "text/plain": [
       "      question_id                                   model  \\\n",
       "0              81           [llama2-70b]_[md_urial_urial]   \n",
       "1              81            [llama2-7b]_[md_urial_urial]   \n",
       "2              81       [llama2-13b]_[chatml_urial_urial]   \n",
       "3              81  [llama2-13b-chat]_[llama2-chat-system]   \n",
       "4              81                     [llama2-13b]_[base]   \n",
       "...           ...                                     ...   \n",
       "3675          130         [llama2-13b-lima]_[llama2-chat]   \n",
       "3676          130       [llama2-13b-alpaca]_[llama2-chat]   \n",
       "3677          130       [llama2-70b-alpaca]_[llama2-chat]   \n",
       "3678          130        [llama2-7b-alpaca]_[llama2-chat]   \n",
       "3679          130          [llama2-7b-lima]_[llama2-chat]   \n",
       "\n",
       "                                               judge  \\\n",
       "0                     [gpt-4o-2024-05-13, single-v1]   \n",
       "1                     [gpt-4o-2024-05-13, single-v1]   \n",
       "2                     [gpt-4o-2024-05-13, single-v1]   \n",
       "3                     [gpt-4o-2024-05-13, single-v1]   \n",
       "4                     [gpt-4o-2024-05-13, single-v1]   \n",
       "...                                              ...   \n",
       "3675  [gpt-4o-2024-05-13, single-math-v1-multi-turn]   \n",
       "3676  [gpt-4o-2024-05-13, single-math-v1-multi-turn]   \n",
       "3677  [gpt-4o-2024-05-13, single-math-v1-multi-turn]   \n",
       "3678  [gpt-4o-2024-05-13, single-math-v1-multi-turn]   \n",
       "3679  [gpt-4o-2024-05-13, single-math-v1-multi-turn]   \n",
       "\n",
       "                                            user_prompt  \\\n",
       "0     [Instruction]\\nPlease act as an impartial judg...   \n",
       "1     [Instruction]\\nPlease act as an impartial judg...   \n",
       "2     [Instruction]\\nPlease act as an impartial judg...   \n",
       "3     [Instruction]\\nPlease act as an impartial judg...   \n",
       "4     [Instruction]\\nPlease act as an impartial judg...   \n",
       "...                                                 ...   \n",
       "3675  <|The Start of Reference Answer|>\\n\\n### User:...   \n",
       "3676  <|The Start of Reference Answer|>\\n\\n### User:...   \n",
       "3677  <|The Start of Reference Answer|>\\n\\n### User:...   \n",
       "3678  <|The Start of Reference Answer|>\\n\\n### User:...   \n",
       "3679  <|The Start of Reference Answer|>\\n\\n### User:...   \n",
       "\n",
       "                                               judgment  score  turn  \\\n",
       "0     The assistant's response provides a well-round...    8.0     1   \n",
       "1     The AI assistant's response provides a compreh...    9.0     1   \n",
       "2     The response provided by the AI assistant is h...    6.0     1   \n",
       "3     The AI assistant's response is well-structured...    9.0     1   \n",
       "4     The response provided by the AI assistant is g...    7.0     1   \n",
       "...                                                 ...    ...   ...   \n",
       "3675  ### Evaluation of Assistant A's Response to th...    3.0     2   \n",
       "3676  ### Evaluation of Assistant A's Response to th...    3.0     2   \n",
       "3677  ### Evaluation of Assistant A's Response to th...    8.0     2   \n",
       "3678  ### Evaluation of Assistant A's Response to th...    3.0     2   \n",
       "3679  ### Evaluation of Assistant A's Response to th...    3.0     2   \n",
       "\n",
       "            tstamp category  \n",
       "0     1.716998e+09  Writing  \n",
       "1     1.716998e+09  Writing  \n",
       "2     1.716998e+09  Writing  \n",
       "3     1.716998e+09  Writing  \n",
       "4     1.716998e+09  Writing  \n",
       "...            ...      ...  \n",
       "3675  1.717235e+09   Coding  \n",
       "3676  1.717235e+09   Coding  \n",
       "3677  1.717235e+09   Coding  \n",
       "3678  1.717235e+09   Coding  \n",
       "3679  1.717235e+09   Coding  \n",
       "\n",
       "[3680 rows x 9 columns]"
      ]
     },
     "execution_count": 22,
     "metadata": {},
     "output_type": "execute_result"
    }
   ],
   "source": [
    "df"
   ]
  },
  {
   "cell_type": "code",
   "execution_count": 2,
   "metadata": {},
   "outputs": [
    {
     "name": "stdout",
     "output_type": "stream",
     "text": [
      "[{'setup': '-_-_-', 'category': 'Helpfulness', 'score': 1.61}, {'setup': '-_-_-', 'category': 'Clarity', 'score': 2.38}, {'setup': '-_-_-', 'category': 'Factuality', 'score': 2.21}, {'setup': '-_-_-', 'category': 'Depth', 'score': 1.43}, {'setup': '-_-_-', 'category': 'Engagement', 'score': 1.7}, {'setup': '-_-_-', 'category': 'Safe', 'score': 2.12}, {'setup': '-_-_Urial', 'category': 'Helpfulness', 'score': 4.36}, {'setup': '-_-_Urial', 'category': 'Clarity', 'score': 4.69}, {'setup': '-_-_Urial', 'category': 'Factuality', 'score': 4.12}, {'setup': '-_-_Urial', 'category': 'Depth', 'score': 3.78}, {'setup': '-_-_Urial', 'category': 'Engagement', 'score': 4.53}, {'setup': '-_-_Urial', 'category': 'Safe', 'score': 4.17}, {'setup': '-_Urial_-', 'category': 'Helpfulness', 'score': 3.11}, {'setup': '-_Urial_-', 'category': 'Clarity', 'score': 4.04}, {'setup': '-_Urial_-', 'category': 'Factuality', 'score': 3.69}, {'setup': '-_Urial_-', 'category': 'Depth', 'score': 2.14}, {'setup': '-_Urial_-', 'category': 'Engagement', 'score': 2.68}, {'setup': '-_Urial_-', 'category': 'Safe', 'score': 2.92}, {'setup': '-_Urial_Urial', 'category': 'Helpfulness', 'score': 4.25}, {'setup': '-_Urial_Urial', 'category': 'Clarity', 'score': 4.58}, {'setup': '-_Urial_Urial', 'category': 'Factuality', 'score': 4.03}, {'setup': '-_Urial_Urial', 'category': 'Depth', 'score': 3.78}, {'setup': '-_Urial_Urial', 'category': 'Engagement', 'score': 4.42}, {'setup': '-_Urial_Urial', 'category': 'Safe', 'score': 5.0}, {'setup': 'Markdown_-_-', 'category': 'Helpfulness', 'score': 2.68}, {'setup': 'Markdown_-_-', 'category': 'Clarity', 'score': 3.77}, {'setup': 'Markdown_-_-', 'category': 'Factuality', 'score': 3.59}, {'setup': 'Markdown_-_-', 'category': 'Depth', 'score': 1.78}, {'setup': 'Markdown_-_-', 'category': 'Engagement', 'score': 2.32}, {'setup': 'Markdown_-_-', 'category': 'Safe', 'score': 1.47}, {'setup': 'Markdown_-_Urial', 'category': 'Helpfulness', 'score': 4.29}, {'setup': 'Markdown_-_Urial', 'category': 'Clarity', 'score': 4.59}, {'setup': 'Markdown_-_Urial', 'category': 'Factuality', 'score': 3.97}, {'setup': 'Markdown_-_Urial', 'category': 'Depth', 'score': 3.8}, {'setup': 'Markdown_-_Urial', 'category': 'Engagement', 'score': 4.42}, {'setup': 'Markdown_-_Urial', 'category': 'Safe', 'score': 4.75}, {'setup': 'Markdown_Urial_-', 'category': 'Helpfulness', 'score': 3.34}, {'setup': 'Markdown_Urial_-', 'category': 'Clarity', 'score': 3.87}, {'setup': 'Markdown_Urial_-', 'category': 'Factuality', 'score': 3.61}, {'setup': 'Markdown_Urial_-', 'category': 'Depth', 'score': 2.5}, {'setup': 'Markdown_Urial_-', 'category': 'Engagement', 'score': 3.0}, {'setup': 'Markdown_Urial_-', 'category': 'Safe', 'score': 3.19}, {'setup': 'Markdown_Urial_Urial', 'category': 'Helpfulness', 'score': 4.05}, {'setup': 'Markdown_Urial_Urial', 'category': 'Clarity', 'score': 4.36}, {'setup': 'Markdown_Urial_Urial', 'category': 'Factuality', 'score': 3.86}, {'setup': 'Markdown_Urial_Urial', 'category': 'Depth', 'score': 3.68}, {'setup': 'Markdown_Urial_Urial', 'category': 'Engagement', 'score': 4.23}, {'setup': 'Markdown_Urial_Urial', 'category': 'Safe', 'score': 4.97}]\n"
     ]
    }
   ],
   "source": [
    "# all_models = df[\"model\"].unique()\n",
    "# scores_all = []\n",
    "# all_models = df[\"model\"].unique()\n",
    "# CATEGORIES = [\"Writing\", \"Roleplay\", \"Reasoning\", \"Math\", \"Coding\", \"Extraction\", \"STEM\", \"Humanities\"]\n",
    "# for model in all_models:\n",
    "#     for cat in CATEGORIES:\n",
    "#         # filter category/model, and score format error (<1% case)\n",
    "#         res = df[(df[\"category\"]==cat) & (df[\"model\"]==model) & (df[\"score\"] >= 0)]\n",
    "#         score = res[\"score\"].mean()\n",
    "\n",
    "#         scores_all.append({\"model\": model, \"category\": cat, \"score\": score})\n",
    "# print(scores_all)\n",
    "\n",
    "datas = pd.read_csv('table1-7b_results.csv')\n",
    "scores_all = []\n",
    "CATEGORIES = [\"Helpfulness\", \"Clarity\", \"Factuality\", \"Depth\", \"Engagement\", \"Safe\"]\n",
    "datas = datas.rename(columns=lambda x: x.strip())\n",
    "datas['avg'] = datas.iloc[:, 3:9].mean(axis=1)\n",
    "datas['setup'] = datas.apply(lambda row: '_'.join(map(str.strip, row[:3])).strip(), axis=1)\n",
    "all_models = datas[\"setup\"].unique()\n",
    "for setup in all_models:\n",
    "    for cat in CATEGORIES:\n",
    "        scores_all.append({\"setup\": setup, \"category\": cat, \"score\": datas[datas[\"setup\"]==setup][cat].item()})\n",
    "\n",
    "\n",
    "# print(len(all_models))\n",
    "# print(all_models)\n",
    "print(scores_all)\n",
    "# print(datas)"
   ]
  },
  {
   "cell_type": "code",
   "execution_count": 24,
   "metadata": {},
   "outputs": [
    {
     "data": {
      "application/vnd.plotly.v1+json": {
       "config": {
        "plotlyServerURL": "https://plot.ly"
       },
       "data": [
        {
         "hovertemplate": "setup=-_Urial_Urial<br>score=%{r}<br>category=%{theta}<extra></extra>",
         "legendgroup": "-_Urial_Urial",
         "line": {
          "color": "rgb(102, 197, 204)",
          "dash": "solid"
         },
         "marker": {
          "symbol": "circle"
         },
         "mode": "lines+markers",
         "name": "-_Urial_Urial",
         "r": [
          4.25,
          4.58,
          4.03,
          3.78,
          4.42,
          5,
          4.25
         ],
         "showlegend": true,
         "subplot": "polar",
         "theta": [
          "Helpfulness",
          "Clarity",
          "Factuality",
          "Depth",
          "Engagement",
          "Safe",
          "Helpfulness"
         ],
         "type": "scatterpolar"
        },
        {
         "hovertemplate": "setup=Markdown_-_Urial<br>score=%{r}<br>category=%{theta}<extra></extra>",
         "legendgroup": "Markdown_-_Urial",
         "line": {
          "color": "rgb(246, 207, 113)",
          "dash": "solid"
         },
         "marker": {
          "symbol": "circle"
         },
         "mode": "lines+markers",
         "name": "Markdown_-_Urial",
         "r": [
          4.29,
          4.59,
          3.97,
          3.8,
          4.42,
          4.75,
          4.29
         ],
         "showlegend": true,
         "subplot": "polar",
         "theta": [
          "Helpfulness",
          "Clarity",
          "Factuality",
          "Depth",
          "Engagement",
          "Safe",
          "Helpfulness"
         ],
         "type": "scatterpolar"
        },
        {
         "hovertemplate": "setup=-_-_Urial<br>score=%{r}<br>category=%{theta}<extra></extra>",
         "legendgroup": "-_-_Urial",
         "line": {
          "color": "rgb(248, 156, 116)",
          "dash": "solid"
         },
         "marker": {
          "symbol": "circle"
         },
         "mode": "lines+markers",
         "name": "-_-_Urial",
         "r": [
          4.36,
          4.69,
          4.12,
          3.78,
          4.53,
          4.17,
          4.36
         ],
         "showlegend": true,
         "subplot": "polar",
         "theta": [
          "Helpfulness",
          "Clarity",
          "Factuality",
          "Depth",
          "Engagement",
          "Safe",
          "Helpfulness"
         ],
         "type": "scatterpolar"
        },
        {
         "hovertemplate": "setup=Markdown_Urial_Urial<br>score=%{r}<br>category=%{theta}<extra></extra>",
         "legendgroup": "Markdown_Urial_Urial",
         "line": {
          "color": "rgb(220, 176, 242)",
          "dash": "solid"
         },
         "marker": {
          "symbol": "circle"
         },
         "mode": "lines+markers",
         "name": "Markdown_Urial_Urial",
         "r": [
          4.05,
          4.36,
          3.86,
          3.68,
          4.23,
          4.97,
          4.05
         ],
         "showlegend": true,
         "subplot": "polar",
         "theta": [
          "Helpfulness",
          "Clarity",
          "Factuality",
          "Depth",
          "Engagement",
          "Safe",
          "Helpfulness"
         ],
         "type": "scatterpolar"
        },
        {
         "hovertemplate": "setup=Markdown_Urial_-<br>score=%{r}<br>category=%{theta}<extra></extra>",
         "legendgroup": "Markdown_Urial_-",
         "line": {
          "color": "rgb(135, 197, 95)",
          "dash": "solid"
         },
         "marker": {
          "symbol": "circle"
         },
         "mode": "lines+markers",
         "name": "Markdown_Urial_-",
         "r": [
          3.34,
          3.87,
          3.61,
          2.5,
          3,
          3.19,
          3.34
         ],
         "showlegend": true,
         "subplot": "polar",
         "theta": [
          "Helpfulness",
          "Clarity",
          "Factuality",
          "Depth",
          "Engagement",
          "Safe",
          "Helpfulness"
         ],
         "type": "scatterpolar"
        },
        {
         "hovertemplate": "setup=-_Urial_-<br>score=%{r}<br>category=%{theta}<extra></extra>",
         "legendgroup": "-_Urial_-",
         "line": {
          "color": "rgb(158, 185, 243)",
          "dash": "solid"
         },
         "marker": {
          "symbol": "circle"
         },
         "mode": "lines+markers",
         "name": "-_Urial_-",
         "r": [
          3.11,
          4.04,
          3.69,
          2.14,
          2.68,
          2.92,
          3.11
         ],
         "showlegend": true,
         "subplot": "polar",
         "theta": [
          "Helpfulness",
          "Clarity",
          "Factuality",
          "Depth",
          "Engagement",
          "Safe",
          "Helpfulness"
         ],
         "type": "scatterpolar"
        },
        {
         "hovertemplate": "setup=Markdown_-_-<br>score=%{r}<br>category=%{theta}<extra></extra>",
         "legendgroup": "Markdown_-_-",
         "line": {
          "color": "rgb(254, 136, 177)",
          "dash": "solid"
         },
         "marker": {
          "symbol": "circle"
         },
         "mode": "lines+markers",
         "name": "Markdown_-_-",
         "r": [
          2.68,
          3.77,
          3.59,
          1.78,
          2.32,
          1.47,
          2.68
         ],
         "showlegend": true,
         "subplot": "polar",
         "theta": [
          "Helpfulness",
          "Clarity",
          "Factuality",
          "Depth",
          "Engagement",
          "Safe",
          "Helpfulness"
         ],
         "type": "scatterpolar"
        },
        {
         "hovertemplate": "setup=-_-_-<br>score=%{r}<br>category=%{theta}<extra></extra>",
         "legendgroup": "-_-_-",
         "line": {
          "color": "rgb(201, 219, 116)",
          "dash": "solid"
         },
         "marker": {
          "symbol": "circle"
         },
         "mode": "lines+markers",
         "name": "-_-_-",
         "r": [
          1.61,
          2.38,
          2.21,
          1.43,
          1.7,
          2.12,
          1.61
         ],
         "showlegend": true,
         "subplot": "polar",
         "theta": [
          "Helpfulness",
          "Clarity",
          "Factuality",
          "Depth",
          "Engagement",
          "Safe",
          "Helpfulness"
         ],
         "type": "scatterpolar"
        }
       ],
       "layout": {
        "legend": {
         "title": {
          "text": "setup"
         },
         "tracegroupgap": 0
        },
        "margin": {
         "t": 60
        },
        "polar": {
         "angularaxis": {
          "categoryarray": [
           "Helpfulness",
           "Clarity",
           "Factuality",
           "Depth",
           "Engagement",
           "Safe"
          ],
          "categoryorder": "array",
          "direction": "clockwise",
          "rotation": 90
         },
         "domain": {
          "x": [
           0,
           1
          ],
          "y": [
           0,
           1
          ]
         }
        },
        "template": {
         "data": {
          "bar": [
           {
            "error_x": {
             "color": "#2a3f5f"
            },
            "error_y": {
             "color": "#2a3f5f"
            },
            "marker": {
             "line": {
              "color": "#E5ECF6",
              "width": 0.5
             },
             "pattern": {
              "fillmode": "overlay",
              "size": 10,
              "solidity": 0.2
             }
            },
            "type": "bar"
           }
          ],
          "barpolar": [
           {
            "marker": {
             "line": {
              "color": "#E5ECF6",
              "width": 0.5
             },
             "pattern": {
              "fillmode": "overlay",
              "size": 10,
              "solidity": 0.2
             }
            },
            "type": "barpolar"
           }
          ],
          "carpet": [
           {
            "aaxis": {
             "endlinecolor": "#2a3f5f",
             "gridcolor": "white",
             "linecolor": "white",
             "minorgridcolor": "white",
             "startlinecolor": "#2a3f5f"
            },
            "baxis": {
             "endlinecolor": "#2a3f5f",
             "gridcolor": "white",
             "linecolor": "white",
             "minorgridcolor": "white",
             "startlinecolor": "#2a3f5f"
            },
            "type": "carpet"
           }
          ],
          "choropleth": [
           {
            "colorbar": {
             "outlinewidth": 0,
             "ticks": ""
            },
            "type": "choropleth"
           }
          ],
          "contour": [
           {
            "colorbar": {
             "outlinewidth": 0,
             "ticks": ""
            },
            "colorscale": [
             [
              0,
              "#0d0887"
             ],
             [
              0.1111111111111111,
              "#46039f"
             ],
             [
              0.2222222222222222,
              "#7201a8"
             ],
             [
              0.3333333333333333,
              "#9c179e"
             ],
             [
              0.4444444444444444,
              "#bd3786"
             ],
             [
              0.5555555555555556,
              "#d8576b"
             ],
             [
              0.6666666666666666,
              "#ed7953"
             ],
             [
              0.7777777777777778,
              "#fb9f3a"
             ],
             [
              0.8888888888888888,
              "#fdca26"
             ],
             [
              1,
              "#f0f921"
             ]
            ],
            "type": "contour"
           }
          ],
          "contourcarpet": [
           {
            "colorbar": {
             "outlinewidth": 0,
             "ticks": ""
            },
            "type": "contourcarpet"
           }
          ],
          "heatmap": [
           {
            "colorbar": {
             "outlinewidth": 0,
             "ticks": ""
            },
            "colorscale": [
             [
              0,
              "#0d0887"
             ],
             [
              0.1111111111111111,
              "#46039f"
             ],
             [
              0.2222222222222222,
              "#7201a8"
             ],
             [
              0.3333333333333333,
              "#9c179e"
             ],
             [
              0.4444444444444444,
              "#bd3786"
             ],
             [
              0.5555555555555556,
              "#d8576b"
             ],
             [
              0.6666666666666666,
              "#ed7953"
             ],
             [
              0.7777777777777778,
              "#fb9f3a"
             ],
             [
              0.8888888888888888,
              "#fdca26"
             ],
             [
              1,
              "#f0f921"
             ]
            ],
            "type": "heatmap"
           }
          ],
          "heatmapgl": [
           {
            "colorbar": {
             "outlinewidth": 0,
             "ticks": ""
            },
            "colorscale": [
             [
              0,
              "#0d0887"
             ],
             [
              0.1111111111111111,
              "#46039f"
             ],
             [
              0.2222222222222222,
              "#7201a8"
             ],
             [
              0.3333333333333333,
              "#9c179e"
             ],
             [
              0.4444444444444444,
              "#bd3786"
             ],
             [
              0.5555555555555556,
              "#d8576b"
             ],
             [
              0.6666666666666666,
              "#ed7953"
             ],
             [
              0.7777777777777778,
              "#fb9f3a"
             ],
             [
              0.8888888888888888,
              "#fdca26"
             ],
             [
              1,
              "#f0f921"
             ]
            ],
            "type": "heatmapgl"
           }
          ],
          "histogram": [
           {
            "marker": {
             "pattern": {
              "fillmode": "overlay",
              "size": 10,
              "solidity": 0.2
             }
            },
            "type": "histogram"
           }
          ],
          "histogram2d": [
           {
            "colorbar": {
             "outlinewidth": 0,
             "ticks": ""
            },
            "colorscale": [
             [
              0,
              "#0d0887"
             ],
             [
              0.1111111111111111,
              "#46039f"
             ],
             [
              0.2222222222222222,
              "#7201a8"
             ],
             [
              0.3333333333333333,
              "#9c179e"
             ],
             [
              0.4444444444444444,
              "#bd3786"
             ],
             [
              0.5555555555555556,
              "#d8576b"
             ],
             [
              0.6666666666666666,
              "#ed7953"
             ],
             [
              0.7777777777777778,
              "#fb9f3a"
             ],
             [
              0.8888888888888888,
              "#fdca26"
             ],
             [
              1,
              "#f0f921"
             ]
            ],
            "type": "histogram2d"
           }
          ],
          "histogram2dcontour": [
           {
            "colorbar": {
             "outlinewidth": 0,
             "ticks": ""
            },
            "colorscale": [
             [
              0,
              "#0d0887"
             ],
             [
              0.1111111111111111,
              "#46039f"
             ],
             [
              0.2222222222222222,
              "#7201a8"
             ],
             [
              0.3333333333333333,
              "#9c179e"
             ],
             [
              0.4444444444444444,
              "#bd3786"
             ],
             [
              0.5555555555555556,
              "#d8576b"
             ],
             [
              0.6666666666666666,
              "#ed7953"
             ],
             [
              0.7777777777777778,
              "#fb9f3a"
             ],
             [
              0.8888888888888888,
              "#fdca26"
             ],
             [
              1,
              "#f0f921"
             ]
            ],
            "type": "histogram2dcontour"
           }
          ],
          "mesh3d": [
           {
            "colorbar": {
             "outlinewidth": 0,
             "ticks": ""
            },
            "type": "mesh3d"
           }
          ],
          "parcoords": [
           {
            "line": {
             "colorbar": {
              "outlinewidth": 0,
              "ticks": ""
             }
            },
            "type": "parcoords"
           }
          ],
          "pie": [
           {
            "automargin": true,
            "type": "pie"
           }
          ],
          "scatter": [
           {
            "fillpattern": {
             "fillmode": "overlay",
             "size": 10,
             "solidity": 0.2
            },
            "type": "scatter"
           }
          ],
          "scatter3d": [
           {
            "line": {
             "colorbar": {
              "outlinewidth": 0,
              "ticks": ""
             }
            },
            "marker": {
             "colorbar": {
              "outlinewidth": 0,
              "ticks": ""
             }
            },
            "type": "scatter3d"
           }
          ],
          "scattercarpet": [
           {
            "marker": {
             "colorbar": {
              "outlinewidth": 0,
              "ticks": ""
             }
            },
            "type": "scattercarpet"
           }
          ],
          "scattergeo": [
           {
            "marker": {
             "colorbar": {
              "outlinewidth": 0,
              "ticks": ""
             }
            },
            "type": "scattergeo"
           }
          ],
          "scattergl": [
           {
            "marker": {
             "colorbar": {
              "outlinewidth": 0,
              "ticks": ""
             }
            },
            "type": "scattergl"
           }
          ],
          "scattermapbox": [
           {
            "marker": {
             "colorbar": {
              "outlinewidth": 0,
              "ticks": ""
             }
            },
            "type": "scattermapbox"
           }
          ],
          "scatterpolar": [
           {
            "marker": {
             "colorbar": {
              "outlinewidth": 0,
              "ticks": ""
             }
            },
            "type": "scatterpolar"
           }
          ],
          "scatterpolargl": [
           {
            "marker": {
             "colorbar": {
              "outlinewidth": 0,
              "ticks": ""
             }
            },
            "type": "scatterpolargl"
           }
          ],
          "scatterternary": [
           {
            "marker": {
             "colorbar": {
              "outlinewidth": 0,
              "ticks": ""
             }
            },
            "type": "scatterternary"
           }
          ],
          "surface": [
           {
            "colorbar": {
             "outlinewidth": 0,
             "ticks": ""
            },
            "colorscale": [
             [
              0,
              "#0d0887"
             ],
             [
              0.1111111111111111,
              "#46039f"
             ],
             [
              0.2222222222222222,
              "#7201a8"
             ],
             [
              0.3333333333333333,
              "#9c179e"
             ],
             [
              0.4444444444444444,
              "#bd3786"
             ],
             [
              0.5555555555555556,
              "#d8576b"
             ],
             [
              0.6666666666666666,
              "#ed7953"
             ],
             [
              0.7777777777777778,
              "#fb9f3a"
             ],
             [
              0.8888888888888888,
              "#fdca26"
             ],
             [
              1,
              "#f0f921"
             ]
            ],
            "type": "surface"
           }
          ],
          "table": [
           {
            "cells": {
             "fill": {
              "color": "#EBF0F8"
             },
             "line": {
              "color": "white"
             }
            },
            "header": {
             "fill": {
              "color": "#C8D4E3"
             },
             "line": {
              "color": "white"
             }
            },
            "type": "table"
           }
          ]
         },
         "layout": {
          "annotationdefaults": {
           "arrowcolor": "#2a3f5f",
           "arrowhead": 0,
           "arrowwidth": 1
          },
          "autotypenumbers": "strict",
          "coloraxis": {
           "colorbar": {
            "outlinewidth": 0,
            "ticks": ""
           }
          },
          "colorscale": {
           "diverging": [
            [
             0,
             "#8e0152"
            ],
            [
             0.1,
             "#c51b7d"
            ],
            [
             0.2,
             "#de77ae"
            ],
            [
             0.3,
             "#f1b6da"
            ],
            [
             0.4,
             "#fde0ef"
            ],
            [
             0.5,
             "#f7f7f7"
            ],
            [
             0.6,
             "#e6f5d0"
            ],
            [
             0.7,
             "#b8e186"
            ],
            [
             0.8,
             "#7fbc41"
            ],
            [
             0.9,
             "#4d9221"
            ],
            [
             1,
             "#276419"
            ]
           ],
           "sequential": [
            [
             0,
             "#0d0887"
            ],
            [
             0.1111111111111111,
             "#46039f"
            ],
            [
             0.2222222222222222,
             "#7201a8"
            ],
            [
             0.3333333333333333,
             "#9c179e"
            ],
            [
             0.4444444444444444,
             "#bd3786"
            ],
            [
             0.5555555555555556,
             "#d8576b"
            ],
            [
             0.6666666666666666,
             "#ed7953"
            ],
            [
             0.7777777777777778,
             "#fb9f3a"
            ],
            [
             0.8888888888888888,
             "#fdca26"
            ],
            [
             1,
             "#f0f921"
            ]
           ],
           "sequentialminus": [
            [
             0,
             "#0d0887"
            ],
            [
             0.1111111111111111,
             "#46039f"
            ],
            [
             0.2222222222222222,
             "#7201a8"
            ],
            [
             0.3333333333333333,
             "#9c179e"
            ],
            [
             0.4444444444444444,
             "#bd3786"
            ],
            [
             0.5555555555555556,
             "#d8576b"
            ],
            [
             0.6666666666666666,
             "#ed7953"
            ],
            [
             0.7777777777777778,
             "#fb9f3a"
            ],
            [
             0.8888888888888888,
             "#fdca26"
            ],
            [
             1,
             "#f0f921"
            ]
           ]
          },
          "colorway": [
           "#636efa",
           "#EF553B",
           "#00cc96",
           "#ab63fa",
           "#FFA15A",
           "#19d3f3",
           "#FF6692",
           "#B6E880",
           "#FF97FF",
           "#FECB52"
          ],
          "font": {
           "color": "#2a3f5f"
          },
          "geo": {
           "bgcolor": "white",
           "lakecolor": "white",
           "landcolor": "#E5ECF6",
           "showlakes": true,
           "showland": true,
           "subunitcolor": "white"
          },
          "hoverlabel": {
           "align": "left"
          },
          "hovermode": "closest",
          "mapbox": {
           "style": "light"
          },
          "paper_bgcolor": "white",
          "plot_bgcolor": "#E5ECF6",
          "polar": {
           "angularaxis": {
            "gridcolor": "white",
            "linecolor": "white",
            "ticks": ""
           },
           "bgcolor": "#E5ECF6",
           "radialaxis": {
            "gridcolor": "white",
            "linecolor": "white",
            "ticks": ""
           }
          },
          "scene": {
           "xaxis": {
            "backgroundcolor": "#E5ECF6",
            "gridcolor": "white",
            "gridwidth": 2,
            "linecolor": "white",
            "showbackground": true,
            "ticks": "",
            "zerolinecolor": "white"
           },
           "yaxis": {
            "backgroundcolor": "#E5ECF6",
            "gridcolor": "white",
            "gridwidth": 2,
            "linecolor": "white",
            "showbackground": true,
            "ticks": "",
            "zerolinecolor": "white"
           },
           "zaxis": {
            "backgroundcolor": "#E5ECF6",
            "gridcolor": "white",
            "gridwidth": 2,
            "linecolor": "white",
            "showbackground": true,
            "ticks": "",
            "zerolinecolor": "white"
           }
          },
          "shapedefaults": {
           "line": {
            "color": "#2a3f5f"
           }
          },
          "ternary": {
           "aaxis": {
            "gridcolor": "white",
            "linecolor": "white",
            "ticks": ""
           },
           "baxis": {
            "gridcolor": "white",
            "linecolor": "white",
            "ticks": ""
           },
           "bgcolor": "#E5ECF6",
           "caxis": {
            "gridcolor": "white",
            "linecolor": "white",
            "ticks": ""
           }
          },
          "title": {
           "x": 0.05
          },
          "xaxis": {
           "automargin": true,
           "gridcolor": "white",
           "linecolor": "white",
           "ticks": "",
           "title": {
            "standoff": 15
           },
           "zerolinecolor": "white",
           "zerolinewidth": 2
          },
          "yaxis": {
           "automargin": true,
           "gridcolor": "white",
           "linecolor": "white",
           "ticks": "",
           "title": {
            "standoff": 15
           },
           "zerolinecolor": "white",
           "zerolinewidth": 2
          }
         }
        }
       }
      },
      "text/html": [
       "<div>                            <div id=\"504f6c1a-947f-4dfb-85d3-df0ab9a25fa2\" class=\"plotly-graph-div\" style=\"height:525px; width:100%;\"></div>            <script type=\"text/javascript\">                require([\"plotly\"], function(Plotly) {                    window.PLOTLYENV=window.PLOTLYENV || {};                                    if (document.getElementById(\"504f6c1a-947f-4dfb-85d3-df0ab9a25fa2\")) {                    Plotly.newPlot(                        \"504f6c1a-947f-4dfb-85d3-df0ab9a25fa2\",                        [{\"hovertemplate\":\"setup=-_Urial_Urial\\u003cbr\\u003escore=%{r}\\u003cbr\\u003ecategory=%{theta}\\u003cextra\\u003e\\u003c\\u002fextra\\u003e\",\"legendgroup\":\"-_Urial_Urial\",\"line\":{\"color\":\"rgb(102, 197, 204)\",\"dash\":\"solid\"},\"marker\":{\"symbol\":\"circle\"},\"mode\":\"lines+markers\",\"name\":\"-_Urial_Urial\",\"r\":[4.25,4.58,4.03,3.78,4.42,5.0,4.25],\"showlegend\":true,\"subplot\":\"polar\",\"theta\":[\"Helpfulness\",\"Clarity\",\"Factuality\",\"Depth\",\"Engagement\",\"Safe\",\"Helpfulness\"],\"type\":\"scatterpolar\"},{\"hovertemplate\":\"setup=Markdown_-_Urial\\u003cbr\\u003escore=%{r}\\u003cbr\\u003ecategory=%{theta}\\u003cextra\\u003e\\u003c\\u002fextra\\u003e\",\"legendgroup\":\"Markdown_-_Urial\",\"line\":{\"color\":\"rgb(246, 207, 113)\",\"dash\":\"solid\"},\"marker\":{\"symbol\":\"circle\"},\"mode\":\"lines+markers\",\"name\":\"Markdown_-_Urial\",\"r\":[4.29,4.59,3.97,3.8,4.42,4.75,4.29],\"showlegend\":true,\"subplot\":\"polar\",\"theta\":[\"Helpfulness\",\"Clarity\",\"Factuality\",\"Depth\",\"Engagement\",\"Safe\",\"Helpfulness\"],\"type\":\"scatterpolar\"},{\"hovertemplate\":\"setup=-_-_Urial\\u003cbr\\u003escore=%{r}\\u003cbr\\u003ecategory=%{theta}\\u003cextra\\u003e\\u003c\\u002fextra\\u003e\",\"legendgroup\":\"-_-_Urial\",\"line\":{\"color\":\"rgb(248, 156, 116)\",\"dash\":\"solid\"},\"marker\":{\"symbol\":\"circle\"},\"mode\":\"lines+markers\",\"name\":\"-_-_Urial\",\"r\":[4.36,4.69,4.12,3.78,4.53,4.17,4.36],\"showlegend\":true,\"subplot\":\"polar\",\"theta\":[\"Helpfulness\",\"Clarity\",\"Factuality\",\"Depth\",\"Engagement\",\"Safe\",\"Helpfulness\"],\"type\":\"scatterpolar\"},{\"hovertemplate\":\"setup=Markdown_Urial_Urial\\u003cbr\\u003escore=%{r}\\u003cbr\\u003ecategory=%{theta}\\u003cextra\\u003e\\u003c\\u002fextra\\u003e\",\"legendgroup\":\"Markdown_Urial_Urial\",\"line\":{\"color\":\"rgb(220, 176, 242)\",\"dash\":\"solid\"},\"marker\":{\"symbol\":\"circle\"},\"mode\":\"lines+markers\",\"name\":\"Markdown_Urial_Urial\",\"r\":[4.05,4.36,3.86,3.68,4.23,4.97,4.05],\"showlegend\":true,\"subplot\":\"polar\",\"theta\":[\"Helpfulness\",\"Clarity\",\"Factuality\",\"Depth\",\"Engagement\",\"Safe\",\"Helpfulness\"],\"type\":\"scatterpolar\"},{\"hovertemplate\":\"setup=Markdown_Urial_-\\u003cbr\\u003escore=%{r}\\u003cbr\\u003ecategory=%{theta}\\u003cextra\\u003e\\u003c\\u002fextra\\u003e\",\"legendgroup\":\"Markdown_Urial_-\",\"line\":{\"color\":\"rgb(135, 197, 95)\",\"dash\":\"solid\"},\"marker\":{\"symbol\":\"circle\"},\"mode\":\"lines+markers\",\"name\":\"Markdown_Urial_-\",\"r\":[3.34,3.87,3.61,2.5,3.0,3.19,3.34],\"showlegend\":true,\"subplot\":\"polar\",\"theta\":[\"Helpfulness\",\"Clarity\",\"Factuality\",\"Depth\",\"Engagement\",\"Safe\",\"Helpfulness\"],\"type\":\"scatterpolar\"},{\"hovertemplate\":\"setup=-_Urial_-\\u003cbr\\u003escore=%{r}\\u003cbr\\u003ecategory=%{theta}\\u003cextra\\u003e\\u003c\\u002fextra\\u003e\",\"legendgroup\":\"-_Urial_-\",\"line\":{\"color\":\"rgb(158, 185, 243)\",\"dash\":\"solid\"},\"marker\":{\"symbol\":\"circle\"},\"mode\":\"lines+markers\",\"name\":\"-_Urial_-\",\"r\":[3.11,4.04,3.69,2.14,2.68,2.92,3.11],\"showlegend\":true,\"subplot\":\"polar\",\"theta\":[\"Helpfulness\",\"Clarity\",\"Factuality\",\"Depth\",\"Engagement\",\"Safe\",\"Helpfulness\"],\"type\":\"scatterpolar\"},{\"hovertemplate\":\"setup=Markdown_-_-\\u003cbr\\u003escore=%{r}\\u003cbr\\u003ecategory=%{theta}\\u003cextra\\u003e\\u003c\\u002fextra\\u003e\",\"legendgroup\":\"Markdown_-_-\",\"line\":{\"color\":\"rgb(254, 136, 177)\",\"dash\":\"solid\"},\"marker\":{\"symbol\":\"circle\"},\"mode\":\"lines+markers\",\"name\":\"Markdown_-_-\",\"r\":[2.68,3.77,3.59,1.78,2.32,1.47,2.68],\"showlegend\":true,\"subplot\":\"polar\",\"theta\":[\"Helpfulness\",\"Clarity\",\"Factuality\",\"Depth\",\"Engagement\",\"Safe\",\"Helpfulness\"],\"type\":\"scatterpolar\"},{\"hovertemplate\":\"setup=-_-_-\\u003cbr\\u003escore=%{r}\\u003cbr\\u003ecategory=%{theta}\\u003cextra\\u003e\\u003c\\u002fextra\\u003e\",\"legendgroup\":\"-_-_-\",\"line\":{\"color\":\"rgb(201, 219, 116)\",\"dash\":\"solid\"},\"marker\":{\"symbol\":\"circle\"},\"mode\":\"lines+markers\",\"name\":\"-_-_-\",\"r\":[1.61,2.38,2.21,1.43,1.7,2.12,1.61],\"showlegend\":true,\"subplot\":\"polar\",\"theta\":[\"Helpfulness\",\"Clarity\",\"Factuality\",\"Depth\",\"Engagement\",\"Safe\",\"Helpfulness\"],\"type\":\"scatterpolar\"}],                        {\"template\":{\"data\":{\"histogram2dcontour\":[{\"type\":\"histogram2dcontour\",\"colorbar\":{\"outlinewidth\":0,\"ticks\":\"\"},\"colorscale\":[[0.0,\"#0d0887\"],[0.1111111111111111,\"#46039f\"],[0.2222222222222222,\"#7201a8\"],[0.3333333333333333,\"#9c179e\"],[0.4444444444444444,\"#bd3786\"],[0.5555555555555556,\"#d8576b\"],[0.6666666666666666,\"#ed7953\"],[0.7777777777777778,\"#fb9f3a\"],[0.8888888888888888,\"#fdca26\"],[1.0,\"#f0f921\"]]}],\"choropleth\":[{\"type\":\"choropleth\",\"colorbar\":{\"outlinewidth\":0,\"ticks\":\"\"}}],\"histogram2d\":[{\"type\":\"histogram2d\",\"colorbar\":{\"outlinewidth\":0,\"ticks\":\"\"},\"colorscale\":[[0.0,\"#0d0887\"],[0.1111111111111111,\"#46039f\"],[0.2222222222222222,\"#7201a8\"],[0.3333333333333333,\"#9c179e\"],[0.4444444444444444,\"#bd3786\"],[0.5555555555555556,\"#d8576b\"],[0.6666666666666666,\"#ed7953\"],[0.7777777777777778,\"#fb9f3a\"],[0.8888888888888888,\"#fdca26\"],[1.0,\"#f0f921\"]]}],\"heatmap\":[{\"type\":\"heatmap\",\"colorbar\":{\"outlinewidth\":0,\"ticks\":\"\"},\"colorscale\":[[0.0,\"#0d0887\"],[0.1111111111111111,\"#46039f\"],[0.2222222222222222,\"#7201a8\"],[0.3333333333333333,\"#9c179e\"],[0.4444444444444444,\"#bd3786\"],[0.5555555555555556,\"#d8576b\"],[0.6666666666666666,\"#ed7953\"],[0.7777777777777778,\"#fb9f3a\"],[0.8888888888888888,\"#fdca26\"],[1.0,\"#f0f921\"]]}],\"heatmapgl\":[{\"type\":\"heatmapgl\",\"colorbar\":{\"outlinewidth\":0,\"ticks\":\"\"},\"colorscale\":[[0.0,\"#0d0887\"],[0.1111111111111111,\"#46039f\"],[0.2222222222222222,\"#7201a8\"],[0.3333333333333333,\"#9c179e\"],[0.4444444444444444,\"#bd3786\"],[0.5555555555555556,\"#d8576b\"],[0.6666666666666666,\"#ed7953\"],[0.7777777777777778,\"#fb9f3a\"],[0.8888888888888888,\"#fdca26\"],[1.0,\"#f0f921\"]]}],\"contourcarpet\":[{\"type\":\"contourcarpet\",\"colorbar\":{\"outlinewidth\":0,\"ticks\":\"\"}}],\"contour\":[{\"type\":\"contour\",\"colorbar\":{\"outlinewidth\":0,\"ticks\":\"\"},\"colorscale\":[[0.0,\"#0d0887\"],[0.1111111111111111,\"#46039f\"],[0.2222222222222222,\"#7201a8\"],[0.3333333333333333,\"#9c179e\"],[0.4444444444444444,\"#bd3786\"],[0.5555555555555556,\"#d8576b\"],[0.6666666666666666,\"#ed7953\"],[0.7777777777777778,\"#fb9f3a\"],[0.8888888888888888,\"#fdca26\"],[1.0,\"#f0f921\"]]}],\"surface\":[{\"type\":\"surface\",\"colorbar\":{\"outlinewidth\":0,\"ticks\":\"\"},\"colorscale\":[[0.0,\"#0d0887\"],[0.1111111111111111,\"#46039f\"],[0.2222222222222222,\"#7201a8\"],[0.3333333333333333,\"#9c179e\"],[0.4444444444444444,\"#bd3786\"],[0.5555555555555556,\"#d8576b\"],[0.6666666666666666,\"#ed7953\"],[0.7777777777777778,\"#fb9f3a\"],[0.8888888888888888,\"#fdca26\"],[1.0,\"#f0f921\"]]}],\"mesh3d\":[{\"type\":\"mesh3d\",\"colorbar\":{\"outlinewidth\":0,\"ticks\":\"\"}}],\"scatter\":[{\"fillpattern\":{\"fillmode\":\"overlay\",\"size\":10,\"solidity\":0.2},\"type\":\"scatter\"}],\"parcoords\":[{\"type\":\"parcoords\",\"line\":{\"colorbar\":{\"outlinewidth\":0,\"ticks\":\"\"}}}],\"scatterpolargl\":[{\"type\":\"scatterpolargl\",\"marker\":{\"colorbar\":{\"outlinewidth\":0,\"ticks\":\"\"}}}],\"bar\":[{\"error_x\":{\"color\":\"#2a3f5f\"},\"error_y\":{\"color\":\"#2a3f5f\"},\"marker\":{\"line\":{\"color\":\"#E5ECF6\",\"width\":0.5},\"pattern\":{\"fillmode\":\"overlay\",\"size\":10,\"solidity\":0.2}},\"type\":\"bar\"}],\"scattergeo\":[{\"type\":\"scattergeo\",\"marker\":{\"colorbar\":{\"outlinewidth\":0,\"ticks\":\"\"}}}],\"scatterpolar\":[{\"type\":\"scatterpolar\",\"marker\":{\"colorbar\":{\"outlinewidth\":0,\"ticks\":\"\"}}}],\"histogram\":[{\"marker\":{\"pattern\":{\"fillmode\":\"overlay\",\"size\":10,\"solidity\":0.2}},\"type\":\"histogram\"}],\"scattergl\":[{\"type\":\"scattergl\",\"marker\":{\"colorbar\":{\"outlinewidth\":0,\"ticks\":\"\"}}}],\"scatter3d\":[{\"type\":\"scatter3d\",\"line\":{\"colorbar\":{\"outlinewidth\":0,\"ticks\":\"\"}},\"marker\":{\"colorbar\":{\"outlinewidth\":0,\"ticks\":\"\"}}}],\"scattermapbox\":[{\"type\":\"scattermapbox\",\"marker\":{\"colorbar\":{\"outlinewidth\":0,\"ticks\":\"\"}}}],\"scatterternary\":[{\"type\":\"scatterternary\",\"marker\":{\"colorbar\":{\"outlinewidth\":0,\"ticks\":\"\"}}}],\"scattercarpet\":[{\"type\":\"scattercarpet\",\"marker\":{\"colorbar\":{\"outlinewidth\":0,\"ticks\":\"\"}}}],\"carpet\":[{\"aaxis\":{\"endlinecolor\":\"#2a3f5f\",\"gridcolor\":\"white\",\"linecolor\":\"white\",\"minorgridcolor\":\"white\",\"startlinecolor\":\"#2a3f5f\"},\"baxis\":{\"endlinecolor\":\"#2a3f5f\",\"gridcolor\":\"white\",\"linecolor\":\"white\",\"minorgridcolor\":\"white\",\"startlinecolor\":\"#2a3f5f\"},\"type\":\"carpet\"}],\"table\":[{\"cells\":{\"fill\":{\"color\":\"#EBF0F8\"},\"line\":{\"color\":\"white\"}},\"header\":{\"fill\":{\"color\":\"#C8D4E3\"},\"line\":{\"color\":\"white\"}},\"type\":\"table\"}],\"barpolar\":[{\"marker\":{\"line\":{\"color\":\"#E5ECF6\",\"width\":0.5},\"pattern\":{\"fillmode\":\"overlay\",\"size\":10,\"solidity\":0.2}},\"type\":\"barpolar\"}],\"pie\":[{\"automargin\":true,\"type\":\"pie\"}]},\"layout\":{\"autotypenumbers\":\"strict\",\"colorway\":[\"#636efa\",\"#EF553B\",\"#00cc96\",\"#ab63fa\",\"#FFA15A\",\"#19d3f3\",\"#FF6692\",\"#B6E880\",\"#FF97FF\",\"#FECB52\"],\"font\":{\"color\":\"#2a3f5f\"},\"hovermode\":\"closest\",\"hoverlabel\":{\"align\":\"left\"},\"paper_bgcolor\":\"white\",\"plot_bgcolor\":\"#E5ECF6\",\"polar\":{\"bgcolor\":\"#E5ECF6\",\"angularaxis\":{\"gridcolor\":\"white\",\"linecolor\":\"white\",\"ticks\":\"\"},\"radialaxis\":{\"gridcolor\":\"white\",\"linecolor\":\"white\",\"ticks\":\"\"}},\"ternary\":{\"bgcolor\":\"#E5ECF6\",\"aaxis\":{\"gridcolor\":\"white\",\"linecolor\":\"white\",\"ticks\":\"\"},\"baxis\":{\"gridcolor\":\"white\",\"linecolor\":\"white\",\"ticks\":\"\"},\"caxis\":{\"gridcolor\":\"white\",\"linecolor\":\"white\",\"ticks\":\"\"}},\"coloraxis\":{\"colorbar\":{\"outlinewidth\":0,\"ticks\":\"\"}},\"colorscale\":{\"sequential\":[[0.0,\"#0d0887\"],[0.1111111111111111,\"#46039f\"],[0.2222222222222222,\"#7201a8\"],[0.3333333333333333,\"#9c179e\"],[0.4444444444444444,\"#bd3786\"],[0.5555555555555556,\"#d8576b\"],[0.6666666666666666,\"#ed7953\"],[0.7777777777777778,\"#fb9f3a\"],[0.8888888888888888,\"#fdca26\"],[1.0,\"#f0f921\"]],\"sequentialminus\":[[0.0,\"#0d0887\"],[0.1111111111111111,\"#46039f\"],[0.2222222222222222,\"#7201a8\"],[0.3333333333333333,\"#9c179e\"],[0.4444444444444444,\"#bd3786\"],[0.5555555555555556,\"#d8576b\"],[0.6666666666666666,\"#ed7953\"],[0.7777777777777778,\"#fb9f3a\"],[0.8888888888888888,\"#fdca26\"],[1.0,\"#f0f921\"]],\"diverging\":[[0,\"#8e0152\"],[0.1,\"#c51b7d\"],[0.2,\"#de77ae\"],[0.3,\"#f1b6da\"],[0.4,\"#fde0ef\"],[0.5,\"#f7f7f7\"],[0.6,\"#e6f5d0\"],[0.7,\"#b8e186\"],[0.8,\"#7fbc41\"],[0.9,\"#4d9221\"],[1,\"#276419\"]]},\"xaxis\":{\"gridcolor\":\"white\",\"linecolor\":\"white\",\"ticks\":\"\",\"title\":{\"standoff\":15},\"zerolinecolor\":\"white\",\"automargin\":true,\"zerolinewidth\":2},\"yaxis\":{\"gridcolor\":\"white\",\"linecolor\":\"white\",\"ticks\":\"\",\"title\":{\"standoff\":15},\"zerolinecolor\":\"white\",\"automargin\":true,\"zerolinewidth\":2},\"scene\":{\"xaxis\":{\"backgroundcolor\":\"#E5ECF6\",\"gridcolor\":\"white\",\"linecolor\":\"white\",\"showbackground\":true,\"ticks\":\"\",\"zerolinecolor\":\"white\",\"gridwidth\":2},\"yaxis\":{\"backgroundcolor\":\"#E5ECF6\",\"gridcolor\":\"white\",\"linecolor\":\"white\",\"showbackground\":true,\"ticks\":\"\",\"zerolinecolor\":\"white\",\"gridwidth\":2},\"zaxis\":{\"backgroundcolor\":\"#E5ECF6\",\"gridcolor\":\"white\",\"linecolor\":\"white\",\"showbackground\":true,\"ticks\":\"\",\"zerolinecolor\":\"white\",\"gridwidth\":2}},\"shapedefaults\":{\"line\":{\"color\":\"#2a3f5f\"}},\"annotationdefaults\":{\"arrowcolor\":\"#2a3f5f\",\"arrowhead\":0,\"arrowwidth\":1},\"geo\":{\"bgcolor\":\"white\",\"landcolor\":\"#E5ECF6\",\"subunitcolor\":\"white\",\"showland\":true,\"showlakes\":true,\"lakecolor\":\"white\"},\"title\":{\"x\":0.05},\"mapbox\":{\"style\":\"light\"}}},\"polar\":{\"domain\":{\"x\":[0.0,1.0],\"y\":[0.0,1.0]},\"angularaxis\":{\"direction\":\"clockwise\",\"rotation\":90,\"categoryorder\":\"array\",\"categoryarray\":[\"Helpfulness\",\"Clarity\",\"Factuality\",\"Depth\",\"Engagement\",\"Safe\"]}},\"legend\":{\"title\":{\"text\":\"setup\"},\"tracegroupgap\":0},\"margin\":{\"t\":60}},                        {\"responsive\": true}                    ).then(function(){\n",
       "                            \n",
       "var gd = document.getElementById('504f6c1a-947f-4dfb-85d3-df0ab9a25fa2');\n",
       "var x = new MutationObserver(function (mutations, observer) {{\n",
       "        var display = window.getComputedStyle(gd).display;\n",
       "        if (!display || display === 'none') {{\n",
       "            console.log([gd, 'removed!']);\n",
       "            Plotly.purge(gd);\n",
       "            observer.disconnect();\n",
       "        }}\n",
       "}});\n",
       "\n",
       "// Listen for the removal of the full notebook cells\n",
       "var notebookContainer = gd.closest('#notebook-container');\n",
       "if (notebookContainer) {{\n",
       "    x.observe(notebookContainer, {childList: true});\n",
       "}}\n",
       "\n",
       "// Listen for the clearing of the current output cell\n",
       "var outputEl = gd.closest('.output');\n",
       "if (outputEl) {{\n",
       "    x.observe(outputEl, {childList: true});\n",
       "}}\n",
       "\n",
       "                        })                };                });            </script>        </div>"
      ]
     },
     "metadata": {},
     "output_type": "display_data"
    }
   ],
   "source": [
    "# target_models = [\"[llama2-70b]_[md_urial_urial]\", \"[llama2-7b]_[md_urial_urial]\"]\n",
    "target_models = all_models.tolist()\n",
    "\n",
    "scores_target = [scores_all[i] for i in range(len(scores_all)) if scores_all[i][\"setup\"] in target_models]\n",
    "\n",
    "# # sort by target_models\n",
    "scores_target = sorted(scores_target, key=lambda x: target_models.index(x[\"setup\"]), reverse=True)\n",
    "\n",
    "\n",
    "from collections import defaultdict\n",
    "average_scores = defaultdict(list)\n",
    "for entry in scores_target:\n",
    "    average_scores[entry['setup']].append(entry['score'])\n",
    "\n",
    "# Calculate average and prepare a dictionary for sorting\n",
    "average_dict = {model: sum(scores) / len(scores) for model, scores in average_scores.items()}\n",
    "\n",
    "# Sort based on average score\n",
    "scores_target = sorted(scores_target, key=lambda x: average_dict[x['setup']], reverse=True)\n",
    "\n",
    "\n",
    "df_score = pd.DataFrame(scores_target)\n",
    "df_score = df_score[df_score[\"setup\"].isin(target_models)]\n",
    "\n",
    "# # for k, v in rename_map.items():\n",
    "# #     df_score.replace(k, v, inplace=True)\n",
    "\n",
    "fig = px.line_polar(df_score, r = 'score', theta = 'category', line_close = True, category_orders = {\"category\": CATEGORIES},\n",
    "                    color = 'setup', markers=True, render_mode = 'svg', color_discrete_sequence=px.colors.qualitative.Pastel,\n",
    "                    # width=1000, \n",
    "                    # height=1000\n",
    "                )\n",
    "\n",
    "fig.show()\n",
    "fig.write_image('table1-7b.pdf')"
   ]
  },
  {
   "cell_type": "code",
   "execution_count": 60,
   "metadata": {},
   "outputs": [
    {
     "data": {
      "text/plain": [
       "[{'setup': '-_Urial_Urial', 'category': 'Helpfulness', 'score': 4.25},\n",
       " {'setup': '-_Urial_Urial', 'category': 'Clarity', 'score': 4.58},\n",
       " {'setup': '-_Urial_Urial', 'category': 'Factuality', 'score': 4.03},\n",
       " {'setup': '-_Urial_Urial', 'category': 'Depth', 'score': 3.78},\n",
       " {'setup': '-_Urial_Urial', 'category': 'Engagement', 'score': 4.42},\n",
       " {'setup': '-_Urial_Urial', 'category': 'Safe', 'score': 5.0},\n",
       " {'setup': 'Markdown_-_Urial', 'category': 'Helpfulness', 'score': 4.29},\n",
       " {'setup': 'Markdown_-_Urial', 'category': 'Clarity', 'score': 4.59},\n",
       " {'setup': 'Markdown_-_Urial', 'category': 'Factuality', 'score': 3.97},\n",
       " {'setup': 'Markdown_-_Urial', 'category': 'Depth', 'score': 3.8},\n",
       " {'setup': 'Markdown_-_Urial', 'category': 'Engagement', 'score': 4.42},\n",
       " {'setup': 'Markdown_-_Urial', 'category': 'Safe', 'score': 4.75},\n",
       " {'setup': '-_-_Urial', 'category': 'Helpfulness', 'score': 4.36},\n",
       " {'setup': '-_-_Urial', 'category': 'Clarity', 'score': 4.69},\n",
       " {'setup': '-_-_Urial', 'category': 'Factuality', 'score': 4.12},\n",
       " {'setup': '-_-_Urial', 'category': 'Depth', 'score': 3.78},\n",
       " {'setup': '-_-_Urial', 'category': 'Engagement', 'score': 4.53},\n",
       " {'setup': '-_-_Urial', 'category': 'Safe', 'score': 4.17},\n",
       " {'setup': 'Markdown_Urial_Urial', 'category': 'Helpfulness', 'score': 4.05},\n",
       " {'setup': 'Markdown_Urial_Urial', 'category': 'Clarity', 'score': 4.36},\n",
       " {'setup': 'Markdown_Urial_Urial', 'category': 'Factuality', 'score': 3.86},\n",
       " {'setup': 'Markdown_Urial_Urial', 'category': 'Depth', 'score': 3.68},\n",
       " {'setup': 'Markdown_Urial_Urial', 'category': 'Engagement', 'score': 4.23},\n",
       " {'setup': 'Markdown_Urial_Urial', 'category': 'Safe', 'score': 4.97},\n",
       " {'setup': 'Markdown_Urial_-', 'category': 'Helpfulness', 'score': 3.34},\n",
       " {'setup': 'Markdown_Urial_-', 'category': 'Clarity', 'score': 3.87},\n",
       " {'setup': 'Markdown_Urial_-', 'category': 'Factuality', 'score': 3.61},\n",
       " {'setup': 'Markdown_Urial_-', 'category': 'Depth', 'score': 2.5},\n",
       " {'setup': 'Markdown_Urial_-', 'category': 'Engagement', 'score': 3.0},\n",
       " {'setup': 'Markdown_Urial_-', 'category': 'Safe', 'score': 3.19},\n",
       " {'setup': '-_Urial_-', 'category': 'Helpfulness', 'score': 3.11},\n",
       " {'setup': '-_Urial_-', 'category': 'Clarity', 'score': 4.04},\n",
       " {'setup': '-_Urial_-', 'category': 'Factuality', 'score': 3.69},\n",
       " {'setup': '-_Urial_-', 'category': 'Depth', 'score': 2.14},\n",
       " {'setup': '-_Urial_-', 'category': 'Engagement', 'score': 2.68},\n",
       " {'setup': '-_Urial_-', 'category': 'Safe', 'score': 2.92},\n",
       " {'setup': 'Markdown_-_-', 'category': 'Helpfulness', 'score': 2.68},\n",
       " {'setup': 'Markdown_-_-', 'category': 'Clarity', 'score': 3.77},\n",
       " {'setup': 'Markdown_-_-', 'category': 'Factuality', 'score': 3.59},\n",
       " {'setup': 'Markdown_-_-', 'category': 'Depth', 'score': 1.78},\n",
       " {'setup': 'Markdown_-_-', 'category': 'Engagement', 'score': 2.32},\n",
       " {'setup': 'Markdown_-_-', 'category': 'Safe', 'score': 1.47},\n",
       " {'setup': '-_-_-', 'category': 'Helpfulness', 'score': 1.61},\n",
       " {'setup': '-_-_-', 'category': 'Clarity', 'score': 2.38},\n",
       " {'setup': '-_-_-', 'category': 'Factuality', 'score': 2.21},\n",
       " {'setup': '-_-_-', 'category': 'Depth', 'score': 1.43},\n",
       " {'setup': '-_-_-', 'category': 'Engagement', 'score': 1.7},\n",
       " {'setup': '-_-_-', 'category': 'Safe', 'score': 2.12}]"
      ]
     },
     "execution_count": 60,
     "metadata": {},
     "output_type": "execute_result"
    }
   ],
   "source": [
    "scores_target"
   ]
  },
  {
   "cell_type": "code",
   "execution_count": 16,
   "metadata": {},
   "outputs": [
    {
     "data": {
      "text/plain": [
       "['[llama2-70b]_[md_urial_urial]',\n",
       " '[llama2-7b]_[md_urial_urial]',\n",
       " '[llama2-13b]_[chatml_urial_urial]',\n",
       " '[llama2-13b-chat]_[llama2-chat-system]',\n",
       " '[llama2-13b]_[base]',\n",
       " '[llama2-70b-chat]_[llama2-chat]',\n",
       " '[llama2-13b-chat]_[llama2-chat]',\n",
       " '[llama2-7b]_[base]',\n",
       " '[llama2-13b]_[md_urial_urial]',\n",
       " '[llama2-70b]_[chatml_urial_gpt4web]',\n",
       " '[llama2-70b]_[base]',\n",
       " '[llama2-7b-chat]_[llama2-chat-system]',\n",
       " '[llama2-7b]_[0_urial_urial]',\n",
       " '[llama2-70b-chat]_[llama2-chat-system]',\n",
       " '[llama2-7b-chat]_[llama2-chat]',\n",
       " 'gpt-3.5-turbo',\n",
       " 'gpt-4',\n",
       " '[llama2-70b-lima]_[llama2-chat]',\n",
       " '[llama2-13b-lima]_[llama2-chat]',\n",
       " '[llama2-13b-alpaca]_[llama2-chat]',\n",
       " '[llama2-70b-alpaca]_[llama2-chat]',\n",
       " '[llama2-7b-alpaca]_[llama2-chat]',\n",
       " '[llama2-7b-lima]_[llama2-chat]']"
      ]
     },
     "execution_count": 16,
     "metadata": {},
     "output_type": "execute_result"
    }
   ],
   "source": [
    "target_models"
   ]
  }
 ],
 "metadata": {
  "kernelspec": {
   "display_name": "vllm",
   "language": "python",
   "name": "python3"
  },
  "language_info": {
   "codemirror_mode": {
    "name": "ipython",
    "version": 3
   },
   "file_extension": ".py",
   "mimetype": "text/x-python",
   "name": "python",
   "nbconvert_exporter": "python",
   "pygments_lexer": "ipython3",
   "version": "3.11.8"
  },
  "orig_nbformat": 4
 },
 "nbformat": 4,
 "nbformat_minor": 2
}
